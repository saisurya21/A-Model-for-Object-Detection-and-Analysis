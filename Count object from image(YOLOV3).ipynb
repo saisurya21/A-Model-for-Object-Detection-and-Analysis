{
 "cells": [
  {
   "cell_type": "code",
   "execution_count": 49,
   "metadata": {},
   "outputs": [],
   "source": [
    "import cv2\n",
    "import numpy as np"
   ]
  },
  {
   "cell_type": "code",
   "execution_count": 50,
   "metadata": {},
   "outputs": [],
   "source": [
    "net=cv2.dnn.readNet(r\"C:\\Users\\Public\\yolov3.weights\",r\"C:\\Users\\Public\\yolov3.cfg\")"
   ]
  },
  {
   "cell_type": "code",
   "execution_count": 51,
   "metadata": {},
   "outputs": [],
   "source": [
    "classes=[]"
   ]
  },
  {
   "cell_type": "code",
   "execution_count": 52,
   "metadata": {},
   "outputs": [],
   "source": [
    "with open('coco.names','r') as f:\n",
    "    classes=f.read().splitlines()"
   ]
  },
  {
   "cell_type": "code",
   "execution_count": 53,
   "metadata": {},
   "outputs": [
    {
     "name": "stdout",
     "output_type": "stream",
     "text": [
      "['person', 'bicycle', 'car', 'motorbike', 'aeroplane', 'bus', 'train', 'truck', 'boat', 'traffic light', 'fire hydrant', 'stop sign', 'parking meter', 'bench', 'bird', 'cat', 'dog', 'horse', 'sheep', 'cow', 'elephant', 'bear', 'zebra', 'giraffe', 'backpack', 'umbrella', 'handbag', 'tie', 'suitcase', 'frisbee', 'skis', 'snowboard', 'sports ball', 'kite', 'baseball bat', 'baseball glove', 'skateboard', 'surfboard', 'tennis racket', 'bottle', 'wine glass', 'cup', 'fork', 'knife', 'spoon', 'bowl', 'banana', 'apple', 'sandwich', 'orange', 'broccoli', 'carrot', 'hot dog', 'pizza', 'donut', 'cake', 'chair', 'sofa', 'pottedplant', 'bed', 'diningtable', 'toilet', 'tvmonitor', 'laptop', 'mouse', 'remote', 'keyboard', 'cell phone', 'microwave', 'oven', 'toaster', 'sink', 'refrigerator', 'book', 'clock', 'vase', 'scissors', 'teddy bear', 'hair drier', 'toothbrush']\n"
     ]
    }
   ],
   "source": [
    "print(classes)"
   ]
  },
  {
   "cell_type": "code",
   "execution_count": 54,
   "metadata": {},
   "outputs": [],
   "source": [
    "img=cv2.imread(\"img3.jpg\")\n",
    "raw_height,raw_width, _ =img.shape\n",
    "\n"
   ]
  },
  {
   "cell_type": "code",
   "execution_count": 55,
   "metadata": {},
   "outputs": [
    {
     "name": "stdout",
     "output_type": "stream",
     "text": [
      "(533, 800, 3)\n"
     ]
    }
   ],
   "source": [
    "print(img.shape)"
   ]
  },
  {
   "cell_type": "code",
   "execution_count": 56,
   "metadata": {},
   "outputs": [],
   "source": [
    "blob=cv2.dnn.blobFromImage(img,1/255,(416,416),(0,0,0),swapRB=True,crop=False)"
   ]
  },
  {
   "cell_type": "code",
   "execution_count": 57,
   "metadata": {},
   "outputs": [],
   "source": [
    "net.setInput(blob)\n",
    "output_layers_names=net.getUnconnectedOutLayersNames()\n",
    "finaloutputs=net.forward(output_layers_names)"
   ]
  },
  {
   "cell_type": "code",
   "execution_count": 58,
   "metadata": {},
   "outputs": [],
   "source": [
    "boxes_no=[]\n",
    "confidences_score=[]\n",
    "class_ids=[]\n",
    "for outputs in finaloutputs:\n",
    "    for detect in outputs:\n",
    "        scores=detect[5:]\n",
    "        class_id=np.argmax(scores)\n",
    "        confidence=scores[class_id]\n",
    "        if confidence > 0.7:\n",
    "            x_center=int(detect[0]*raw_width)\n",
    "            y_center=int(detect[1]*raw_height)\n",
    "            w=int(detect[2]*raw_width)\n",
    "            h=int(detect[3]*raw_height)\n",
    "            \n",
    "            x=int(x_center-w/2)\n",
    "            y=int(y_center-h/2)\n",
    "            boxes_no.append([x,y,w,h])\n",
    "            confidences_score.append((float(confidence)))\n",
    "            class_ids.append(class_id)\n",
    "        \n",
    "   # print(len(boxes_no))   \n",
    "    index=cv2.dnn.NMSBoxes(boxes_no,confidences_score,0.7,0.4)\n",
    "   # print(index.flatten())"
   ]
  },
  {
   "cell_type": "code",
   "execution_count": 59,
   "metadata": {},
   "outputs": [],
   "source": [
    "def countobject(whole_track_list,index_of_track):\n",
    "    count=0\n",
    "    for p in whole_track_list:\n",
    "        \n",
    "            \n",
    "            if(p==index_of_track):\n",
    "                \n",
    "                count+=1\n",
    "    return count"
   ]
  },
  {
   "cell_type": "code",
   "execution_count": 60,
   "metadata": {},
   "outputs": [],
   "source": [
    "def numOfsameIndex(whole_redundant_list,item_id):\n",
    "    count1=0\n",
    "    for q in whole_redundant_list:\n",
    "        if(q==item_id):\n",
    "            count1+=1\n",
    "    return count1\n",
    "           \n",
    "        \n"
   ]
  },
  {
   "cell_type": "code",
   "execution_count": 61,
   "metadata": {},
   "outputs": [],
   "source": [
    "colors=np.random.uniform(0,255,size=(len(boxes_no),3))"
   ]
  },
  {
   "cell_type": "code",
   "execution_count": 62,
   "metadata": {},
   "outputs": [],
   "source": [
    "track=[]\n",
    "for i in index.flatten():\n",
    "    \n",
    "    x,y,w,h=boxes_no[i]\n",
    "    label=str(classes[class_ids[i]])\n",
    "    #print(label)\n",
    "    #print(class_ids[i])\n",
    "    track.append(class_ids[i])\n",
    "   \n",
    "    confidence=str(round(confidences_score[i],2))\n",
    "    color=colors[i]\n",
    "    \n",
    "    cv2.rectangle(img,(x,y),(x+w,y+h),color,2)\n",
    "    \n",
    "    cv2.putText(img,label,(x,y+20),cv2.FONT_HERSHEY_SIMPLEX,1,(100,255,90),1)\n",
    "   "
   ]
  },
  {
   "cell_type": "code",
   "execution_count": 63,
   "metadata": {},
   "outputs": [
    {
     "name": "stdout",
     "output_type": "stream",
     "text": [
      "[0, 0, 0, 62, 62]\n"
     ]
    }
   ],
   "source": [
    "print(track)"
   ]
  },
  {
   "cell_type": "code",
   "execution_count": 64,
   "metadata": {},
   "outputs": [],
   "source": [
    "redundant=[]\n",
    "countlists=[]\n",
    "size=len(track)\n",
    "\n",
    "#print(size)\n",
    "#print(redundantsize)\n",
    "\n",
    "i=0\n",
    "while i<size:\n",
    "    \n",
    "    redundantsize=len(redundant)\n",
    "    #print(\"lenth of redundant array\",redundantsize)\n",
    "    if (redundantsize==0):\n",
    "        totalobject=countobject(track,track[i])\n",
    "        #print(\"object index and total number of occurace is\",track[i], totalobject)\n",
    "        redundant.append(track[i])\n",
    "        countlists.append(totalobject)\n",
    "        i+=1\n",
    "        \n",
    "    else:\n",
    "        rslt=numOfsameIndex(redundant,track[i])\n",
    "        \n",
    "        if(rslt==0):\n",
    "            totalobject=countobject(track,track[i])\n",
    "            # print(\"object id and total number of occurace is\",track[i], totalobject)\n",
    "            # text=\"obj1\".format(totalobject)\n",
    "            # cv2.putText(img,text,(20,20),cv2.FONT_HERSHEY_SIMPLEX,1,(255,0,0),1)\n",
    "            redundant.append(track[i])\n",
    "            countlists.append(totalobject)\n",
    "            i+=1\n",
    "        else:\n",
    "            i+=1\n",
    "            \n",
    "        \n",
    "            \n",
    "    \n",
    "    \n",
    "        \n",
    "\n"
   ]
  },
  {
   "cell_type": "code",
   "execution_count": 65,
   "metadata": {},
   "outputs": [],
   "source": [
    "loopsize=len(countlists)"
   ]
  },
  {
   "cell_type": "code",
   "execution_count": 66,
   "metadata": {},
   "outputs": [],
   "source": [
    "\n",
    "i=0\n",
    "x=20\n",
    "y=30\n",
    "while i<loopsize:\n",
    "    label=str(classes[redundant[i]])\n",
    "    cv2.putText(img,label,(x,y),cv2.FONT_HERSHEY_DUPLEX, 0.8, (255,0,0), 2)\n",
    "    x+=120\n",
    "    text=\":{}\".format(countlists[i])\n",
    "    cv2.putText(img,text,(x,y),cv2.FONT_HERSHEY_DUPLEX, 0.8, (255,0,0), 2)\n",
    "    i+=1\n",
    "    x=x-120\n",
    "    y+=30\n",
    "    \n",
    "    "
   ]
  },
  {
   "cell_type": "code",
   "execution_count": 67,
   "metadata": {},
   "outputs": [],
   "source": [
    "\n",
    "\n",
    "cv2.imshow('Image',img)\n",
    "cv2.waitKey(0)\n",
    "cv2.destroyAllWindows()"
   ]
  },
  {
   "cell_type": "code",
   "execution_count": null,
   "metadata": {},
   "outputs": [],
   "source": []
  },
  {
   "cell_type": "code",
   "execution_count": null,
   "metadata": {},
   "outputs": [],
   "source": []
  }
 ],
 "metadata": {
  "kernelspec": {
   "display_name": "Python 3",
   "language": "python",
   "name": "python3"
  },
  "language_info": {
   "codemirror_mode": {
    "name": "ipython",
    "version": 3
   },
   "file_extension": ".py",
   "mimetype": "text/x-python",
   "name": "python",
   "nbconvert_exporter": "python",
   "pygments_lexer": "ipython3",
   "version": "3.7.9"
  }
 },
 "nbformat": 4,
 "nbformat_minor": 4
}
